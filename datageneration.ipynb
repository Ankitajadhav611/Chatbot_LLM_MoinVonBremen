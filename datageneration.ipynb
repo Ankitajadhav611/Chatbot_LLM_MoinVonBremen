{
  "cells": [
    {
      "cell_type": "code",
      "execution_count": 2,
      "metadata": {
        "colab": {
          "base_uri": "https://localhost:8080/"
        },
        "id": "AGyKlrRzlnuI",
        "outputId": "1bc7d860-add1-447a-d38b-d00d799f0957"
      },
      "outputs": [
        {
          "output_type": "stream",
          "name": "stdout",
          "text": [
            "\u001b[?25l     \u001b[90m━━━━━━━━━━━━━━━━━━━━━━━━━━━━━━━━━━━━━━━━\u001b[0m \u001b[32m0.0/53.8 kB\u001b[0m \u001b[31m?\u001b[0m eta \u001b[36m-:--:--\u001b[0m\r\u001b[2K     \u001b[90m━━━━━━━━━━━━━━━━━━━━━━━━━━━━━━━━━━━━━━━━\u001b[0m \u001b[32m53.8/53.8 kB\u001b[0m \u001b[31m2.1 MB/s\u001b[0m eta \u001b[36m0:00:00\u001b[0m\n",
            "\u001b[?25h  Preparing metadata (setup.py) ... \u001b[?25l\u001b[?25hdone\n",
            "\u001b[2K   \u001b[90m━━━━━━━━━━━━━━━━━━━━━━━━━━━━━━━━━━━━━━━━\u001b[0m \u001b[32m2.3/2.3 MB\u001b[0m \u001b[31m25.7 MB/s\u001b[0m eta \u001b[36m0:00:00\u001b[0m\n",
            "\u001b[?25h  Building wheel for wikipedia (setup.py) ... \u001b[?25l\u001b[?25hdone\n"
          ]
        }
      ],
      "source": [
        "!pip install -q timm einops wikipedia"
      ]
    },
    {
      "cell_type": "code",
      "execution_count": 6,
      "metadata": {
        "id": "r8jO8xvUlv4M"
      },
      "outputs": [],
      "source": [
        "# secondly we will get text from wiki and save it in txt file\n",
        "wiki_titles = { # the key is imgs class and the value is wiki title\n",
        "    # 'Böttcherstraße': 'Böttcherstraße (Bremen)',\n",
        "    # 'Breminale': 'Breminale',\n",
        "    'Cathedral_Bremen': 'Bremen Cathedral',\n",
        "    'Bremen_Ratskeller': 'Bremen Ratskeller',\n",
        "    'Freimarkt': 'Freimarkt',\n",
        "    'focke_museum': 'Focke Museum',\n",
        "    'Bremen_City_Hall':'Bremen City Hall',\n",
        "                \"Roland\" : \"Bremen Roland\",\n",
        "                \"SV Werder\" : \"SV Werder Bremen\",\n",
        "                \"Schlachte\" : \"Schlachte (Bremen)\",\n",
        "                \"Schnoor\" : \"Schnoor\",\n",
        "                \"Town_Musicians\" : \"Town Musicians of Bremen\",\n",
        "                \"Flag\" : \"Flag of Bremen\",\n",
        "                \"University\" : \"University of Bremen\",\n",
        "                \"Fallturm\" : \"Fallturm Bremen\"\n",
        "}"
      ]
    },
    {
      "cell_type": "code",
      "execution_count": 7,
      "metadata": {
        "id": "25-cu6r4yx9j",
        "colab": {
          "base_uri": "https://localhost:8080/"
        },
        "outputId": "0c1555ef-1593-4384-a4f7-5b83c8f78647"
      },
      "outputs": [
        {
          "output_type": "stream",
          "name": "stdout",
          "text": [
            "Saved Cathedral_Bremen.txt in /content/data/Cathedral_Bremen\n",
            "Saved Bremen_Ratskeller.txt in /content/data/Bremen_Ratskeller\n",
            "Saved Freimarkt.txt in /content/data/Freimarkt\n",
            "Saved focke_museum.txt in /content/data/focke_museum\n",
            "Saved Bremen_City_Hall.txt in /content/data/Bremen_City_Hall\n",
            "Saved Roland.txt in /content/data/Roland\n",
            "Creating SV Werder folder\n",
            "Saved SV Werder.txt in /content/data/SV Werder\n",
            "Creating Schlachte folder\n",
            "Saved Schlachte.txt in /content/data/Schlachte\n",
            "Creating Schnoor folder\n",
            "Saved Schnoor.txt in /content/data/Schnoor\n",
            "Creating Town_Musicians folder\n",
            "Saved Town_Musicians.txt in /content/data/Town_Musicians\n",
            "Creating Flag folder\n",
            "Saved Flag.txt in /content/data/Flag\n",
            "Creating University folder\n",
            "Saved University.txt in /content/data/University\n",
            "Creating Fallturm folder\n",
            "Saved Fallturm.txt in /content/data/Fallturm\n"
          ]
        }
      ],
      "source": [
        "import os\n",
        "import wikipedia\n",
        "\n",
        "# Path where you want to save the text files\n",
        "new_pth = '/content/data'\n",
        "if not new_pth:\n",
        "  os.mkdir(new_pth)\n",
        "\n",
        "\n",
        "for cls in wiki_titles:\n",
        "    cls_pth = os.path.join(new_pth, cls)\n",
        "\n",
        "    # Get the Wikipedia page summary\n",
        "    page_content = wikipedia.summary(wiki_titles[cls], auto_suggest=False)\n",
        "\n",
        "    # Create the folder if it doesn't exist\n",
        "    if not os.path.exists(cls_pth):\n",
        "        print(f'Creating {cls} folder')\n",
        "        os.makedirs(cls_pth)  # This creates the folder\n",
        "\n",
        "    # Save the text file\n",
        "    files_name = cls + '.txt'\n",
        "    with open(os.path.join(cls_pth, files_name), 'w', encoding='utf-8') as f:\n",
        "        f.write(page_content)\n",
        "        print(f'Saved {files_name} in {cls_pth}')"
      ]
    },
    {
      "cell_type": "code",
      "execution_count": 9,
      "metadata": {
        "colab": {
          "base_uri": "https://localhost:8080/",
          "height": 36
        },
        "id": "un42QvygzTZl",
        "outputId": "1b4e9c4c-e76f-4f9f-8331-1daa2275eeff"
      },
      "outputs": [
        {
          "output_type": "execute_result",
          "data": {
            "text/plain": [
              "'/content/wiki_summaries.zip'"
            ],
            "application/vnd.google.colaboratory.intrinsic+json": {
              "type": "string"
            }
          },
          "metadata": {},
          "execution_count": 9
        }
      ],
      "source": [
        "import shutil\n",
        "\n",
        "\n",
        "# Name of the zip file\n",
        "zip_name = 'wiki_summaries.zip'\n",
        "\n",
        "# Zip the folder\n",
        "shutil.make_archive(zip_name.replace('.zip', ''), 'zip', new_pth)"
      ]
    },
    {
      "cell_type": "code",
      "execution_count": null,
      "metadata": {
        "colab": {
          "base_uri": "https://localhost:8080/"
        },
        "id": "jrVSSqG2yuBd",
        "outputId": "19671899-3ee9-47ff-a3e8-74060745850e"
      },
      "outputs": [
        {
          "name": "stdout",
          "output_type": "stream",
          "text": [
            "Creating Flag folder\n",
            "Creating University folder\n",
            "Creating Fallturm folder\n"
          ]
        }
      ],
      "source": []
    },
    {
      "cell_type": "code",
      "execution_count": null,
      "metadata": {
        "id": "NlCUk2CZzDPE"
      },
      "outputs": [],
      "source": []
    }
  ],
  "metadata": {
    "colab": {
      "provenance": []
    },
    "kernelspec": {
      "display_name": "Python 3",
      "name": "python3"
    },
    "language_info": {
      "name": "python"
    }
  },
  "nbformat": 4,
  "nbformat_minor": 0
}